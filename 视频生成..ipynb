{
 "cells": [
  {
   "cell_type": "code",
   "execution_count": 74,
   "id": "ff043b83-15f2-48c0-bf5b-18a84cfe769d",
   "metadata": {
    "execution": {
     "iopub.execute_input": "2024-11-21T08:18:08.704048Z",
     "iopub.status.busy": "2024-11-21T08:18:08.703126Z",
     "iopub.status.idle": "2024-11-21T08:18:08.982409Z",
     "shell.execute_reply": "2024-11-21T08:18:08.981461Z",
     "shell.execute_reply.started": "2024-11-21T08:18:08.703999Z"
    },
    "tags": []
   },
   "outputs": [
    {
     "name": "stdout",
     "output_type": "stream",
     "text": [
      "VideoObject(id='84311732092992900-9221303064715259571', model='cogvideox', video_result=None, task_status='PROCESSING', request_id='-9221303064715259572')\n"
     ]
    }
   ],
   "source": [
    "from zhipuai import ZhipuAI\n",
    "client =ZhipuAI(api_key='f28f99afec54ba87aef362f6a6407d3b.kWHsoEEitX2e2Ro5')\n",
    "\n",
    "response=client.videos.generations(\n",
    "    model='cogvideox',\n",
    "    prompt='一只鸡与一只狗打架。'\n",
    ")\n",
    "print(response)"
   ]
  },
  {
   "cell_type": "code",
   "execution_count": 2,
   "id": "b8913e60-15dd-4e37-bc9b-6997a09ea3c2",
   "metadata": {
    "execution": {
     "iopub.execute_input": "2024-11-21T07:15:42.800421Z",
     "iopub.status.busy": "2024-11-21T07:15:42.799986Z",
     "iopub.status.idle": "2024-11-21T07:15:58.873823Z",
     "shell.execute_reply": "2024-11-21T07:15:58.872716Z",
     "shell.execute_reply.started": "2024-11-21T07:15:42.800398Z"
    },
    "tags": []
   },
   "outputs": [
    {
     "name": "stdout",
     "output_type": "stream",
     "text": [
      "Looking in indexes: https://mirrors.cloud.tencent.com/pypi/simple\n",
      "Collecting zhipuai\n",
      "  Downloading https://mirrors.cloud.tencent.com/pypi/packages/10/28/5c1efbfb560e64458b22e0442279af8bde673edcb096762a3aeccee3a8ec/zhipuai-2.1.5.20230904-py3-none-any.whl (104 kB)\n",
      "\u001b[2K     \u001b[90m━━━━━━━━━━━━━━━━━━━━━━━━━━━━━━━━━━━━━━━\u001b[0m \u001b[32m105.0/105.0 kB\u001b[0m \u001b[31m3.8 MB/s\u001b[0m eta \u001b[36m0:00:00\u001b[0m\n",
      "\u001b[?25hRequirement already satisfied: cachetools>=4.2.2 in /usr/local/lib/python3.8/site-packages (from zhipuai) (4.2.4)\n",
      "Collecting httpx>=0.23.0 (from zhipuai)\n",
      "  Downloading https://mirrors.cloud.tencent.com/pypi/packages/56/95/9377bcb415797e44274b51d46e3249eba641711cf3348050f76ee7b15ffc/httpx-0.27.2-py3-none-any.whl (76 kB)\n",
      "\u001b[2K     \u001b[90m━━━━━━━━━━━━━━━━━━━━━━━━━━━━━━━━━━━━━━━━\u001b[0m \u001b[32m76.4/76.4 kB\u001b[0m \u001b[31m1.9 MB/s\u001b[0m eta \u001b[36m0:00:00\u001b[0ma \u001b[36m0:00:01\u001b[0m\n",
      "\u001b[?25hCollecting pydantic<3.0,>=1.9.0 (from zhipuai)\n",
      "  Downloading https://mirrors.cloud.tencent.com/pypi/packages/df/e4/ba44652d562cbf0bf320e0f3810206149c8a4e99cdbf66da82e97ab53a15/pydantic-2.9.2-py3-none-any.whl (434 kB)\n",
      "\u001b[2K     \u001b[90m━━━━━━━━━━━━━━━━━━━━━━━━━━━━━━━━━━━━━━━\u001b[0m \u001b[32m434.9/434.9 kB\u001b[0m \u001b[31m4.5 MB/s\u001b[0m eta \u001b[36m0:00:00\u001b[0ma \u001b[36m0:00:01\u001b[0m\n",
      "\u001b[?25hCollecting pydantic-core>=2.14.6 (from zhipuai)\n",
      "  Downloading https://mirrors.cloud.tencent.com/pypi/packages/8e/e1/bb637cf80583bf9058b8e5a7645cdc99a8adf3941a58329ced63f4c63843/pydantic_core-2.27.0-cp38-cp38-manylinux_2_17_x86_64.manylinux2014_x86_64.whl (2.1 MB)\n",
      "\u001b[2K     \u001b[90m━━━━━━━━━━━━━━━━━━━━━━━━━━━━━━━━━━━━━━━━\u001b[0m \u001b[32m2.1/2.1 MB\u001b[0m \u001b[31m4.0 MB/s\u001b[0m eta \u001b[36m0:00:00\u001b[0ma \u001b[36m0:00:01\u001b[0m\n",
      "\u001b[?25hCollecting pyjwt<2.9.0,>=2.8.0 (from zhipuai)\n",
      "  Downloading https://mirrors.cloud.tencent.com/pypi/packages/2b/4f/e04a8067c7c96c364cef7ef73906504e2f40d690811c021e1a1901473a19/PyJWT-2.8.0-py3-none-any.whl (22 kB)\n",
      "Requirement already satisfied: anyio in /usr/local/lib/python3.8/site-packages (from httpx>=0.23.0->zhipuai) (4.0.0)\n",
      "Requirement already satisfied: certifi in /usr/local/lib/python3.8/site-packages (from httpx>=0.23.0->zhipuai) (2023.7.22)\n",
      "Collecting httpcore==1.* (from httpx>=0.23.0->zhipuai)\n",
      "  Downloading https://mirrors.cloud.tencent.com/pypi/packages/87/f5/72347bc88306acb359581ac4d52f23c0ef445b57157adedb9aee0cd689d2/httpcore-1.0.7-py3-none-any.whl (78 kB)\n",
      "\u001b[2K     \u001b[90m━━━━━━━━━━━━━━━━━━━━━━━━━━━━━━━━━━━━━━━━\u001b[0m \u001b[32m78.6/78.6 kB\u001b[0m \u001b[31m1.8 MB/s\u001b[0m eta \u001b[36m0:00:00\u001b[0ma \u001b[36m0:00:01\u001b[0m\n",
      "\u001b[?25hRequirement already satisfied: idna in /usr/local/lib/python3.8/site-packages (from httpx>=0.23.0->zhipuai) (3.4)\n",
      "Requirement already satisfied: sniffio in /usr/local/lib/python3.8/site-packages (from httpx>=0.23.0->zhipuai) (1.3.0)\n",
      "Requirement already satisfied: h11<0.15,>=0.13 in /usr/local/lib/python3.8/site-packages (from httpcore==1.*->httpx>=0.23.0->zhipuai) (0.14.0)\n",
      "Collecting annotated-types>=0.6.0 (from pydantic<3.0,>=1.9.0->zhipuai)\n",
      "  Downloading https://mirrors.cloud.tencent.com/pypi/packages/78/b6/6307fbef88d9b5ee7421e68d78a9f162e0da4900bc5f5793f6d3d0e34fb8/annotated_types-0.7.0-py3-none-any.whl (13 kB)\n",
      "Collecting pydantic-core>=2.14.6 (from zhipuai)\n",
      "  Downloading https://mirrors.cloud.tencent.com/pypi/packages/a5/a4/229432a701acd98575b88ccaff82e8435c75c44cb30522004afb263e3756/pydantic_core-2.23.4-cp38-cp38-manylinux_2_17_x86_64.manylinux2014_x86_64.whl (2.1 MB)\n",
      "\u001b[2K     \u001b[90m━━━━━━━━━━━━━━━━━━━━━━━━━━━━━━━━━━━━━━━━\u001b[0m \u001b[32m2.1/2.1 MB\u001b[0m \u001b[31m3.4 MB/s\u001b[0m eta \u001b[36m0:00:00\u001b[0m00:01\u001b[0m00:01\u001b[0m\n",
      "\u001b[?25hRequirement already satisfied: typing-extensions>=4.6.1 in /usr/local/lib/python3.8/site-packages (from pydantic<3.0,>=1.9.0->zhipuai) (4.8.0)\n",
      "Requirement already satisfied: exceptiongroup>=1.0.2 in /usr/local/lib/python3.8/site-packages (from anyio->httpx>=0.23.0->zhipuai) (1.2.0)\n",
      "Installing collected packages: pyjwt, pydantic-core, httpcore, annotated-types, pydantic, httpx, zhipuai\n",
      "Successfully installed annotated-types-0.7.0 httpcore-1.0.7 httpx-0.27.2 pydantic-2.9.2 pydantic-core-2.23.4 pyjwt-2.8.0 zhipuai-2.1.5.20230904\n",
      "\u001b[33mWARNING: Running pip as the 'root' user can result in broken permissions and conflicting behaviour with the system package manager. It is recommended to use a virtual environment instead: https://pip.pypa.io/warnings/venv\u001b[0m\u001b[33m\n",
      "\u001b[0mNote: you may need to restart the kernel to use updated packages.\n"
     ]
    }
   ],
   "source": [
    "pip install -i https://mirrors.cloud.tencent.com/pypi/simple zhipuai"
   ]
  },
  {
   "cell_type": "code",
   "execution_count": 85,
   "id": "4f3e8fb8-41f0-44c8-9079-ec6e4d42397b",
   "metadata": {
    "execution": {
     "iopub.execute_input": "2024-11-21T08:18:34.026949Z",
     "iopub.status.busy": "2024-11-21T08:18:34.026541Z",
     "iopub.status.idle": "2024-11-21T08:18:34.169581Z",
     "shell.execute_reply": "2024-11-21T08:18:34.168708Z",
     "shell.execute_reply.started": "2024-11-21T08:18:34.026908Z"
    },
    "tags": []
   },
   "outputs": [
    {
     "name": "stdout",
     "output_type": "stream",
     "text": [
      "VideoObject(id=None, model='cogvideox', video_result=[VideoResult(url='https://aigc-files.bigmodel.cn/api/cogvideo/24416ce0-a7e1-11ef-bd78-9ee7942420ea_0.mp4', cover_image_url='https://aigc-files.bigmodel.cn/api/cogvideo/24416ce0-a7e1-11ef-bd78-9ee7942420ea_cover_0.jpeg')], task_status='SUCCESS', request_id='-9221303064715259572')\n"
     ]
    }
   ],
   "source": [
    "from zhipuai import ZhipuAI\n",
    "client =ZhipuAI(api_key='f28f99afec54ba87aef362f6a6407d3b.kWHsoEEitX2e2Ro5')\n",
    "\n",
    "response=client.videos.retrieve_videos_result(\n",
    "   id='84311732092992900-9221303064715259571'\n",
    ")\n",
    "print(response)"
   ]
  },
  {
   "cell_type": "code",
   "execution_count": null,
   "id": "8e99f9ea-1c33-40f0-b1c8-1f1be1026046",
   "metadata": {},
   "outputs": [],
   "source": []
  },
  {
   "cell_type": "code",
   "execution_count": null,
   "id": "cbed3f1c-69b2-4d18-8c6e-76d85810f8e2",
   "metadata": {},
   "outputs": [],
   "source": []
  }
 ],
 "metadata": {
  "kernelspec": {
   "display_name": "Python 3 (ipykernel)",
   "language": "python",
   "name": "python3"
  },
  "language_info": {
   "codemirror_mode": {
    "name": "ipython",
    "version": 3
   },
   "file_extension": ".py",
   "mimetype": "text/x-python",
   "name": "python",
   "nbconvert_exporter": "python",
   "pygments_lexer": "ipython3",
   "version": "3.8.18"
  }
 },
 "nbformat": 4,
 "nbformat_minor": 5
}
